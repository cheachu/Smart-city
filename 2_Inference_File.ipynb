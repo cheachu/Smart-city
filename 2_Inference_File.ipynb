{
 "cells": [
  {
   "cell_type": "markdown",
   "id": "2251d4ee",
   "metadata": {},
   "source": [
    "># Import Libraries"
   ]
  },
  {
   "cell_type": "code",
   "execution_count": 6,
   "id": "9b9e2be3",
   "metadata": {},
   "outputs": [],
   "source": [
    "import warnings\n",
    "warnings.filterwarnings(\"ignore\")\n",
    "\n",
    "import os\n",
    "import pickle\n",
    "import pandas as pd\n",
    "import numpy as np\n",
    "from matplotlib import pyplot as plt\n",
    "%matplotlib inline\n",
    "#from lib_file import lib_path"
   ]
  },
  {
   "cell_type": "markdown",
   "id": "597e5dd1",
   "metadata": {},
   "source": [
    "># Loading Models"
   ]
  },
  {
   "cell_type": "code",
   "execution_count": 7,
   "id": "5e7e5782",
   "metadata": {},
   "outputs": [],
   "source": [
    "# Employment Rate prediction model\n",
    "with open(file=\"models/er_RandomForestRegressor_model.pkl\", mode=\"rb\") as file:\n",
    "    rfr_model = pickle.load(file=file)\n",
    "    \n",
    "\n",
    "# Safety Index\n",
    "with open(file=\"models/si_AdaBoostRegressor_model.pkl\", mode=\"rb\") as file:\n",
    "    abr_model = pickle.load(file=file)\n",
    "    \n",
    "# Cost of Living Index\n",
    "with open(file=\"models/coli_RidgeRegressor_model.pkl\", mode=\"rb\") as file:\n",
    "    rr_model = pickle.load(file=file)"
   ]
  },
  {
   "cell_type": "code",
   "execution_count": 8,
   "id": "e178aaba",
   "metadata": {},
   "outputs": [],
   "source": [
    "# Employment Rate feature scaler\n",
    "with open(file=\"models/er_feature_scaler.pkl\", mode=\"rb\") as file:\n",
    "    er_feature_scaler = pickle.load(file=file)\n",
    "    \n",
    "# Employment Rate target scaler\n",
    "with open(file=\"models/er_target_scaler.pkl\", mode=\"rb\") as file:\n",
    "    er_target_scaler = pickle.load(file=file)"
   ]
  },
  {
   "cell_type": "code",
   "execution_count": 9,
   "id": "4b8e6048",
   "metadata": {},
   "outputs": [],
   "source": [
    "# Safety Index feature scaler\n",
    "with open(file=\"models/si_feature_scaler.pkl\", mode=\"rb\") as file:\n",
    "    si_feature_scaler = pickle.load(file=file)\n",
    "    \n",
    "# Safety Index target scaler\n",
    "with open(file=\"models/si_target_scaler.pkl\", mode=\"rb\") as file:\n",
    "    si_target_scaler = pickle.load(file=file)"
   ]
  },
  {
   "cell_type": "code",
   "execution_count": 10,
   "id": "0e800597",
   "metadata": {},
   "outputs": [],
   "source": [
    "# Cost of Living Index feature scaler\n",
    "with open(file=\"models/coli_feature_scaler.pkl\", mode=\"rb\") as file:\n",
    "    coli_feature_scaler = pickle.load(file=file)\n",
    "    \n",
    "# Cost of Living Index target scaler\n",
    "with open(file=\"models/coli_target_scaler.pkl\", mode=\"rb\") as file:\n",
    "    coli_target_scaler = pickle.load(file=file)"
   ]
  },
  {
   "cell_type": "markdown",
   "id": "b0959837",
   "metadata": {},
   "source": [
    "># User Input"
   ]
  },
  {
   "cell_type": "code",
   "execution_count": null,
   "id": "0ccd2c32",
   "metadata": {},
   "outputs": [],
   "source": [
    "Population = input('Enter the value of present Population value between [10832 - 9997692]')\n",
    "Population = float(Population)\n",
    "\n",
    "Area_sq_km = input('Enter the value of present Area (sq. km) value between [10.1 - 999.36]')\n",
    "Area_sq_km = float(Area_sq_km)\n",
    "\n",
    "Energy_Consumption = input('Enter the value of present Energy Consumption value between [100.12 - 999.7]')\n",
    "Energy_Consumption = float(Energy_Consumption)\n",
    "\n",
    "Public_Transport_Usage = input('Enter the value of present Public Transport Usage value between [5.01 - 79.99]')\n",
    "Public_Transport_Usage = float(Public_Transport_Usage)\n",
    "\n",
    "Air_Quality_Index = input('Enter the value of present Air Quality Index value between [10.0 - 99.96]')\n",
    "Air_Quality_Index = float(Air_Quality_Index)\n",
    "\n",
    "Education_Index = input('Enter the value of present Education Index value between [0.0 - 100.0]')\n",
    "Education_Index = float(Education_Index)\n",
    "\n",
    "Healthcare_Index = input('Enter the value of present Healthcare Index value between [0.01 - 99.98]')\n",
    "Healthcare_Index = float(Healthcare_Index)\n",
    "\n",
    "Employment_Rate = input('Enter the value of present Employment Rate value between [0.04 - 99.99]')\n",
    "Employment_Rate = float(Employment_Rate)\n",
    "\n",
    "Waste_Management_Score = input('Enter the value of present Waste Management Score value between [0.03 - 100.0]')\n",
    "Waste_Management_Score = float(Waste_Management_Score)\n",
    "\n",
    "Internet_Speed_Mbps = input('Enter the value of present Internet Speed (Mbps) value between [1.25 - 999.49]')\n",
    "Internet_Speed_Mbps = float(Internet_Speed_Mbps)\n",
    "\n",
    "Safety_Index = input('Enter the value of present Safety Index value between [0.01 - 99.96]')\n",
    "Safety_Index = float(Safety_Index)\n",
    "\n",
    "Cost_of_Living_Index = input('Enter the value of present Cost of Living Index value between [30.0 - 119.99]')\n",
    "Cost_of_Living_Index = float(Cost_of_Living_Index)"
   ]
  },
  {
   "cell_type": "code",
   "execution_count": 3,
   "id": "279ced59",
   "metadata": {},
   "outputs": [],
   "source": [
    "er_input_result = [\n",
    "    Population,\n",
    "    Area_sq_km,\n",
    "    Energy_Consumption,\n",
    "    Public_Transport_Usage,\n",
    "    Air_Quality_Index,\n",
    "    Education_Index,\n",
    "    Healthcare_Index,\n",
    "    Waste_Management_Score,\n",
    "    Internet_Speed_Mbps,\n",
    "    Safety_Index,\n",
    "    Cost_of_Living_Index\n",
    "]"
   ]
  },
  {
   "cell_type": "code",
   "execution_count": 4,
   "id": "9f570f98",
   "metadata": {},
   "outputs": [
    {
     "ename": "NameError",
     "evalue": "name 'er_feature_scaler' is not defined",
     "output_type": "error",
     "traceback": [
      "\u001b[1;31m---------------------------------------------------------------------------\u001b[0m",
      "\u001b[1;31mNameError\u001b[0m                                 Traceback (most recent call last)",
      "Cell \u001b[1;32mIn[4], line 1\u001b[0m\n\u001b[1;32m----> 1\u001b[0m er_normalized \u001b[38;5;241m=\u001b[39m er_feature_scaler\u001b[38;5;241m.\u001b[39mtransform(np\u001b[38;5;241m.\u001b[39marray([er_input_result]))\n\u001b[0;32m      2\u001b[0m er_prediction \u001b[38;5;241m=\u001b[39m rfr_model\u001b[38;5;241m.\u001b[39mpredict(er_normalized)\n\u001b[0;32m      3\u001b[0m predicted_employment_rate \u001b[38;5;241m=\u001b[39m er_target_scaler\u001b[38;5;241m.\u001b[39minverse_transform(np\u001b[38;5;241m.\u001b[39marray([er_prediction]))\n",
      "\u001b[1;31mNameError\u001b[0m: name 'er_feature_scaler' is not defined"
     ]
    }
   ],
   "source": [
    "er_normalized = er_feature_scaler.transform(np.array([er_input_result]))\n",
    "er_prediction = rfr_model.predict(er_normalized)\n",
    "predicted_employment_rate = er_target_scaler.inverse_transform(np.array([er_prediction]))\n",
    "\n",
    "print(predicted_employment_rate)"
   ]
  },
  {
   "cell_type": "code",
   "execution_count": 5,
   "id": "1a6786b0",
   "metadata": {},
   "outputs": [],
   "source": [
    "si_input_result = [\n",
    "    Population,\n",
    "    Area_sq_km,\n",
    "    Energy_Consumption,\n",
    "    Public_Transport_Usage,\n",
    "    Air_Quality_Index,\n",
    "    Education_Index,\n",
    "    Healthcare_Index,\n",
    "    Employment_Rate,\n",
    "    Waste_Management_Score,\n",
    "    Internet_Speed_Mbps,\n",
    "    Cost_of_Living_Index\n",
    "]"
   ]
  },
  {
   "cell_type": "code",
   "execution_count": 23,
   "id": "32ea3a46",
   "metadata": {},
   "outputs": [
    {
     "name": "stdout",
     "output_type": "stream",
     "text": [
      "[[52.11400411]]\n"
     ]
    }
   ],
   "source": [
    "si_normalized = si_feature_scaler.transform(np.array([si_input_result]))\n",
    "si_prediction = abr_model.predict(si_normalized)\n",
    "predicted_safety_index = si_target_scaler.inverse_transform(np.array([si_prediction]))\n",
    "\n",
    "print(predicted_safety_index)"
   ]
  },
  {
   "cell_type": "code",
   "execution_count": 24,
   "id": "4de4813a",
   "metadata": {},
   "outputs": [],
   "source": [
    "coli_input_result = [\n",
    "    Population,\n",
    "    Area_sq_km,\n",
    "    Energy_Consumption,\n",
    "    Public_Transport_Usage,\n",
    "    Air_Quality_Index,\n",
    "    Education_Index,\n",
    "    Healthcare_Index,\n",
    "    Employment_Rate,\n",
    "    Waste_Management_Score,\n",
    "    Internet_Speed_Mbps,\n",
    "    Safety_Index\n",
    "]"
   ]
  },
  {
   "cell_type": "code",
   "execution_count": 25,
   "id": "e870da95",
   "metadata": {},
   "outputs": [
    {
     "name": "stdout",
     "output_type": "stream",
     "text": [
      "[[75.55327326]]\n"
     ]
    }
   ],
   "source": [
    "coli_normalized = coli_feature_scaler.transform(np.array([coli_input_result]))\n",
    "coli_prediction = rr_model.predict(coli_normalized)\n",
    "predicted_cost_of_living_index = coli_target_scaler.inverse_transform(np.array([coli_prediction]))\n",
    "\n",
    "print(predicted_cost_of_living_index)"
   ]
  },
  {
   "cell_type": "code",
   "execution_count": 31,
   "id": "ffdb2a44",
   "metadata": {},
   "outputs": [
    {
     "data": {
      "text/html": [
       "<div>\n",
       "<style scoped>\n",
       "    .dataframe tbody tr th:only-of-type {\n",
       "        vertical-align: middle;\n",
       "    }\n",
       "\n",
       "    .dataframe tbody tr th {\n",
       "        vertical-align: top;\n",
       "    }\n",
       "\n",
       "    .dataframe thead th {\n",
       "        text-align: right;\n",
       "    }\n",
       "</style>\n",
       "<table border=\"1\" class=\"dataframe\">\n",
       "  <thead>\n",
       "    <tr style=\"text-align: right;\">\n",
       "      <th></th>\n",
       "      <th>Present</th>\n",
       "      <th>Predicted</th>\n",
       "    </tr>\n",
       "    <tr>\n",
       "      <th>Index</th>\n",
       "      <th></th>\n",
       "      <th></th>\n",
       "    </tr>\n",
       "  </thead>\n",
       "  <tbody>\n",
       "    <tr>\n",
       "      <th>Employment Rate</th>\n",
       "      <td>89.0</td>\n",
       "      <td>47.676730</td>\n",
       "    </tr>\n",
       "    <tr>\n",
       "      <th>Safety Index</th>\n",
       "      <td>35.0</td>\n",
       "      <td>48.905098</td>\n",
       "    </tr>\n",
       "    <tr>\n",
       "      <th>Cost of Living Index</th>\n",
       "      <td>35.0</td>\n",
       "      <td>77.917978</td>\n",
       "    </tr>\n",
       "  </tbody>\n",
       "</table>\n",
       "</div>"
      ],
      "text/plain": [
       "                      Present  Predicted\n",
       "Index                                   \n",
       "Employment Rate          89.0  47.676730\n",
       "Safety Index             35.0  48.905098\n",
       "Cost of Living Index     35.0  77.917978"
      ]
     },
     "execution_count": 31,
     "metadata": {},
     "output_type": "execute_result"
    }
   ],
   "source": [
    "df_data={\n",
    "    \"Index\":['Employment Rate', 'Safety Index', 'Cost of Living Index'],\n",
    "    \"Present\":[Employment_Rate, Safety_Index, Cost_of_Living_Index],\n",
    "    \"Predicted\":[predicted_employment_rate[0][0], predicted_safety_index[0][0], predicted_cost_of_living_index[0][0]]\n",
    "}\n",
    "\n",
    "df = pd.DataFrame(data=df_data)\n",
    "df = df.set_index(keys='Index')\n",
    "df.head()"
   ]
  },
  {
   "cell_type": "code",
   "execution_count": 32,
   "id": "8f0d2713",
   "metadata": {},
   "outputs": [
    {
     "name": "stdout",
     "output_type": "stream",
     "text": [
      "Present \u001b[1mEmployment Rate\u001b[0m  is more than expected. \u001b[1mEmployment Rate\u001b[0m has well improvement for smart city conversion. \n",
      "\n",
      "Present \u001b[1mSafety Index\u001b[0m is lower than expected. Need to improve \u001b[1mSafety Index\u001b[0m from \u001b[1m\u001b[92m\u001b[0m \u001b[1m\u001b[92m35.0\u001b[0m to \u001b[1m\u001b[92m\u001b[0m \u001b[1m\u001b[92m48.91\u001b[0m \n",
      "\n",
      "Present \u001b[1mCost of Living Index\u001b[0m is lower than expected. Need to improve \u001b[1mCost of Living Index\u001b[0m from \u001b[1m\u001b[92m\u001b[0m \u001b[1m\u001b[92m35.0\u001b[0m to \u001b[1m\u001b[92m\u001b[0m \u001b[1m\u001b[92m77.92\u001b[0m \n",
      "\n"
     ]
    }
   ],
   "source": [
    "for index_label, idx in zip(df.index.tolist(), range(len(df.index.tolist()))):\n",
    "    present_value = df.iloc[idx].to_dict()['Present']\n",
    "    predicted_value = df.iloc[idx].to_dict()['Predicted']\n",
    "    \n",
    "    if present_value < predicted_value:\n",
    "        print(f\"Present \\033[1m{index_label}\\033[0m is lower than expected. Need to improve \\033[1m{index_label}\\033[0m from \\033[1m\\033[92m\\033[0m \\033[1m\\033[92m{present_value}\\033[0m to \\033[1m\\033[92m\\033[0m \\033[1m\\033[92m{predicted_value:.2f}\\033[0m\", \"\\n\")\n",
    "    elif present_value > predicted_value:\n",
    "        print(f\"Present \\033[1m{index_label}\\033[0m  is more than expected. \\033[1m{index_label}\\033[0m has well improvement for smart city conversion.\", \"\\n\")\n",
    "    else:\n",
    "        print(f\"The predicted and present values of \\033[1m{index_label}\\033[0m. \\033[1m{index_label}\\033[0m has well improvement for smart city conversion.\")"
   ]
  },
  {
   "cell_type": "markdown",
   "id": "aa366668",
   "metadata": {},
   "source": [
    "---"
   ]
  }
 ],
 "metadata": {
  "kernelspec": {
   "display_name": "Python 3 (ipykernel)",
   "language": "python",
   "name": "python3"
  },
  "language_info": {
   "codemirror_mode": {
    "name": "ipython",
    "version": 3
   },
   "file_extension": ".py",
   "mimetype": "text/x-python",
   "name": "python",
   "nbconvert_exporter": "python",
   "pygments_lexer": "ipython3",
   "version": "3.11.7"
  }
 },
 "nbformat": 4,
 "nbformat_minor": 5
}
